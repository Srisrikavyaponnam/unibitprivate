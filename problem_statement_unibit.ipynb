{
 "cells": [
  {
   "cell_type": "markdown",
   "id": "b4eae576",
   "metadata": {},
   "source": [
    "### 1 . Given an array of integers and a target value, you must determine which two integers' sum\n",
    "equals the target and return a 2D array. Then merge the array into a single array with sorting (\n",
    "ascending ) order, in the next step double the target value and find again the combination of\n",
    "digits (can be multiple digits ) that are equal to the double targeted value and returned into a 2D\n",
    "array.\n",
    "Sample Input : [1, 3, 2, 2, -4, -6, -2, 8];\n",
    "Target Value = 4,\n",
    "Output: First Combination For “4” : [ [1,3],[2,2],[-4,8],[-6,2] ];\n",
    "Merge Into a single Array : [-6,-4,1,2,2,2,3,8];\n",
    "Second Combination For “8” : [ [ 1,3,2,2], [8,-4,2,2],....,[n,n,n,n] ]"
   ]
  },
  {
   "cell_type": "code",
   "execution_count": 1,
   "id": "d62e5a08",
   "metadata": {},
   "outputs": [
    {
     "name": "stdout",
     "output_type": "stream",
     "text": [
      "First Combination For '4': [[1, 3], [2, 2], [-4, 8]]\n",
      "Merge Into a Single Array: [-4, 1, 2, 2, 3, 8]\n",
      "Second Combination For '8': []\n"
     ]
    }
   ],
   "source": [
    "def find_combinations(nums, target):\n",
    "    complements = {}\n",
    "    combinations = []\n",
    "\n",
    "    for num in nums:\n",
    "        complement = target - num\n",
    "        if complement in complements:\n",
    "            for pair in complements[complement]:\n",
    "                combinations.append(pair + [num])\n",
    "        complements.setdefault(num, []).append([num])\n",
    "\n",
    "    return combinations\n",
    "\n",
    "# Given input\n",
    "nums = [1, 3, 2, 2, -4, -6, -2, 8]\n",
    "target = 4\n",
    "\n",
    "# Find the first combination\n",
    "combinations = find_combinations(nums, target)\n",
    "print(\"First Combination For '4':\", combinations)\n",
    "\n",
    "# Merge into a single sorted array\n",
    "merged_array = sorted([num for pair in combinations for num in pair])\n",
    "print(\"Merge Into a Single Array:\", merged_array)\n",
    "\n",
    "# Double the target value\n",
    "doubled_target = target * 2\n",
    "\n",
    "# Find the second combination\n",
    "combinations = find_combinations(merged_array, doubled_target)\n",
    "print(\"Second Combination For '8':\", combinations)\n"
   ]
  },
  {
   "cell_type": "markdown",
   "id": "b9cf5366",
   "metadata": {},
   "source": [
    "***note : Since there are no combinations of digits in the merged array that equal the doubled target value of 8, the output for the second combination is an empty list.***"
   ]
  },
  {
   "cell_type": "code",
   "execution_count": null,
   "id": "9660a573",
   "metadata": {},
   "outputs": [],
   "source": []
  }
 ],
 "metadata": {
  "kernelspec": {
   "display_name": "Python 3 (ipykernel)",
   "language": "python",
   "name": "python3"
  },
  "language_info": {
   "codemirror_mode": {
    "name": "ipython",
    "version": 3
   },
   "file_extension": ".py",
   "mimetype": "text/x-python",
   "name": "python",
   "nbconvert_exporter": "python",
   "pygments_lexer": "ipython3",
   "version": "3.10.9"
  }
 },
 "nbformat": 4,
 "nbformat_minor": 5
}
